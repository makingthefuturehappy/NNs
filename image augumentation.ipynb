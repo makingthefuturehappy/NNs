{
 "cells": [
  {
   "cell_type": "markdown",
   "metadata": {},
   "source": [
    "## augumentation"
   ]
  },
  {
   "cell_type": "markdown",
   "metadata": {},
   "source": [
    "examples: https://albumentations-demo.herokuapp.com/"
   ]
  },
  {
   "cell_type": "code",
   "execution_count": 5,
   "metadata": {
    "ExecuteTime": {
     "end_time": "2020-10-08T14:02:01.139845Z",
     "start_time": "2020-10-08T14:01:58.486341Z"
    },
    "code_folding": []
   },
   "outputs": [],
   "source": [
    "#function augment сategorical pics\n",
    "import os\n",
    "import cv2\n",
    "import albumentations as A\n",
    "import random\n",
    "import pyttsx3\n",
    "\n",
    "def notify(notification):\n",
    "    engine = pyttsx3.init()\n",
    "    engine.say(notification)\n",
    "    engine.runAndWait()\n",
    "    return\n",
    "\n",
    "IMG_SIZE             = 224 # pics size\n",
    "DATA_PATH = '/Users/alexander/Documents/DataFactory/Projects/NN Car Classification/data/'\n",
    "QNNTY_PICS = 5 # qnnty augmented pics for an original one\n",
    "MAX_EFFECTS = 4 # max effects for an original pics\n",
    "\n",
    "def augment(image, path):\n",
    "    image_name = image\n",
    "    image = cv2.imread(path+image)\n",
    "    image = cv2.cvtColor(image, cv2.COLOR_BGR2RGB)\n",
    "\n",
    "    image_version = 0\n",
    "    for image_version in range (0, QNNTY_PICS, 1):\n",
    "        random_value = round(random.uniform(0.4, 0.6),1)\n",
    "        # all examples: https://albumentations-demo.herokuapp.com/\n",
    "        all_aug_properties = {'R_Crop' : A.RandomCrop(width=IMG_SIZE, height=IMG_SIZE),\n",
    "                              'Rain' : A.RandomRain(p=1.0, slant_lower=-10, slant_upper=10, drop_length=3, drop_width=1, drop_color=(0, 0, 0), blur_value=3, brightness_coefficient=0.699999988079071, rain_type='torrential'),\n",
    "                              'Motion' : A.MotionBlur(p=1.0, blur_limit=(3, 22)),\n",
    "                              'Distorsh' : A.GridDistortion(p=1.0, num_steps=5, distort_limit=(-0.30000001192092896, 0.30000001192092896), interpolation=4, border_mode=3, value=(0, 0, 0), mask_value=None),\n",
    "                              'Opt_Dist' : A.OpticalDistortion(p=1.0, distort_limit=(0.3100000023841858, 0.8700000047683716), shift_limit=(0.3700000047683716, 0.4899999797344208), interpolation=3, border_mode=2, value=(0, 0, 0), mask_value=None),\n",
    "                              'Invert' : A.InvertImg(p=1.0),\n",
    "                              'Grey' : A.ToGray(p=1.0),\n",
    "                              'Serpia' : A.ToSepia(p=1.0),\n",
    "                              'Shaffle' : A.ChannelShuffle(p=1.0),\n",
    "#                           'R_Brigh' : A.RandomBrightness(limit=1.2, p=0.5),\n",
    "                              'Hor_Flip' : A.HorizontalFlip(p=random_value),\n",
    "#                           'R_BrighCont' : A.RandomBrightnessContrast(p=random_value),\n",
    "                              'RGBShift' : A.RGBShift(r_shift_limit=105, g_shift_limit=45, b_shift_limit=40, p=random_value),\n",
    "                              'R_Gamma' : A.RandomGamma(gamma_limit=37, p=0.5),\n",
    "                              'ETrans' : A.ElasticTransform(alpha=203, sigma=166, alpha_affine=106, p=0.5),\n",
    "                              'V_Flip' : A.VerticalFlip(p=random_value),\n",
    "                              'H_Flip' : A.HorizontalFlip(p=random_value),\n",
    "                              'CD' : A.CoarseDropout(p=1.0, max_holes=40, max_height=40, max_width=8, min_holes=22, min_height=12, min_width=8),\n",
    "                              'Flip' : A.Flip(p=random_value),\n",
    "                              'Opt_Dist' : A.OpticalDistortion(distort_limit=0.2, shift_limit=0.15, p=0.5),\n",
    "                              'R_Rot' : A.RandomRotate90(p=random_value),\n",
    "#                           'S_Scaler' : A.ShiftScaleRotate(shift_limit=0.8, scale_limit=1.4, rotate_limit=360, p=0.5),\n",
    "                              'Cent_Crop' : A.CenterCrop(height=IMG_SIZE, width=IMG_SIZE, p=0.5),\n",
    "                              'Jp_Comp' : A.JpegCompression(quality_lower=4, quality_upper=100, p=random_value),\n",
    "#                           'Hue_Sat' : A.HueSaturationValue(hue_shift_limit=172, sat_shift_limit=20, val_shift_limit=27, p=0),\n",
    "#                               'R_Cont' : A.RandomContrast(limit=0.9, p=0.5),\n",
    "                              'Blur' : A.Blur(p=1.0, blur_limit=(3, 7))\n",
    "                             }\n",
    "\n",
    "        aug_properties_names = random.sample(list(all_aug_properties.keys()), \n",
    "                                            k = int(random.uniform(1, \n",
    "                                                                   MAX_EFFECTS\n",
    "#                                                                    len(list(all_aug_properties.keys())))\n",
    "                                                   )))\n",
    "        \n",
    "        aug_properties = [] # to see what properties give a particular effect to choose the best effects\n",
    "        for item in aug_properties_names:\n",
    "            aug_properties.append(all_aug_properties[item])\n",
    "        \n",
    "        transform = A.Compose(aug_properties)\n",
    "        transformed = transform(image=image)\n",
    "        transformed_image = transformed[\"image\"]\n",
    "#         file_name = 'aug_' + str(aug_properties_names) + '_' + str(image_name)\n",
    "        file_name = 'aug_' + str(round(random.random(),2)) +  '_' + str(image_name)\n",
    "        cv2.imwrite(path + file_name, transformed_image) \n",
    "        image_version += 1\n",
    "    return"
   ]
  },
  {
   "cell_type": "code",
   "execution_count": 6,
   "metadata": {
    "ExecuteTime": {
     "end_time": "2020-10-08T15:07:22.865910Z",
     "start_time": "2020-10-08T14:02:01.141892Z"
    }
   },
   "outputs": [
    {
     "name": "stdout",
     "output_type": "stream",
     "text": [
      "['9', '0', '7', '6', '1', '8', '4', '3', '2', '5']\n",
      "category: 9\n"
     ]
    },
    {
     "name": "stderr",
     "output_type": "stream",
     "text": [
      "/Users/alexander/opt/anaconda3/lib/python3.7/site-packages/albumentations/augmentations/functional.py:1298: RuntimeWarning: divide by zero encountered in power\n",
      "  table = (np.arange(0, 256.0 / 255, 1.0 / 255) ** gamma) * 255\n"
     ]
    },
    {
     "name": "stdout",
     "output_type": "stream",
     "text": [
      "category: 0\n",
      "category: 7\n",
      "category: 6\n",
      "category: 1\n",
      "category: 8\n",
      "category: 4\n",
      "category: 3\n",
      "category: 2\n",
      "category: 5\n"
     ]
    }
   ],
   "source": [
    "categories = os.listdir(DATA_PATH+'train/')\n",
    "print(categories)\n",
    "# try:categories.remove('.DS_Store')\n",
    "\n",
    "for category in categories:\n",
    "    print('category:', category)\n",
    "\n",
    "    try:\n",
    "        images = os.listdir(DATA_PATH+'train/'+ str(category))\n",
    "        images = list(filter(lambda image: 'jpg' in image, images))\n",
    "\n",
    "        for image in images:\n",
    "            try:\n",
    "                augment(image, DATA_PATH+'train/'+ str(category) + '/')\n",
    "            except:\n",
    "                    pass\n",
    "    except: pass\n",
    "    \n",
    "notify(\"augumentation is done\")"
   ]
  }
 ],
 "metadata": {
  "kernelspec": {
   "display_name": "Python 3",
   "language": "python",
   "name": "python3"
  },
  "language_info": {
   "codemirror_mode": {
    "name": "ipython",
    "version": 3
   },
   "file_extension": ".py",
   "mimetype": "text/x-python",
   "name": "python",
   "nbconvert_exporter": "python",
   "pygments_lexer": "ipython3",
   "version": "3.7.6"
  },
  "toc": {
   "base_numbering": 1,
   "nav_menu": {},
   "number_sections": true,
   "sideBar": true,
   "skip_h1_title": false,
   "title_cell": "Table of Contents",
   "title_sidebar": "Contents",
   "toc_cell": false,
   "toc_position": {},
   "toc_section_display": true,
   "toc_window_display": false
  },
  "varInspector": {
   "cols": {
    "lenName": 16,
    "lenType": 16,
    "lenVar": 40
   },
   "kernels_config": {
    "python": {
     "delete_cmd_postfix": "",
     "delete_cmd_prefix": "del ",
     "library": "var_list.py",
     "varRefreshCmd": "print(var_dic_list())"
    },
    "r": {
     "delete_cmd_postfix": ") ",
     "delete_cmd_prefix": "rm(",
     "library": "var_list.r",
     "varRefreshCmd": "cat(var_dic_list()) "
    }
   },
   "types_to_exclude": [
    "module",
    "function",
    "builtin_function_or_method",
    "instance",
    "_Feature"
   ],
   "window_display": false
  }
 },
 "nbformat": 4,
 "nbformat_minor": 4
}
